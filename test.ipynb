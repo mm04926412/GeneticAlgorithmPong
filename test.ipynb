{
 "cells": [
  {
   "cell_type": "code",
   "execution_count": 6,
   "metadata": {},
   "outputs": [
    {
     "name": "stdout",
     "output_type": "stream",
     "text": [
      "   Unnamed: 0  ball_x  ball_y  ball_dx  ball_dy  paddle_x  leftHeld  RightHeld\n",
      "0           0     400     300       -5        5       350     False      False\n",
      "1           1     395     305       -5        5       350     False      False\n",
      "2           2     390     310       -5        5       350     False      False\n",
      "3           3     385     315       -5        5       350     False      False\n",
      "4           4     380     320       -5        5       350     False      False\n",
      "   leftHeld  RightHeld  counts\n",
      "0     False      False    2032\n",
      "1     False       True     586\n",
      "2      True      False     581\n",
      "3      True       True       7\n",
      "   leftHeld  RightHeld  counts\n",
      "0     False      False    3206\n",
      "1     False       True    3206\n",
      "2      True      False    3206\n",
      "3      True       True    3206\n"
     ]
    }
   ],
   "source": [
    "import pandas as pd\n",
    "from sklearn.utils import resample\n",
    "\n",
    "# Load the dataset\n",
    "df = pd.read_csv(\"playerOutput.csv\")\n",
    "\n",
    "# Check the structure of the dataframe\n",
    "print(df.head())\n",
    "\n",
    "# Define the column names\n",
    "col1 = 'leftHeld'\n",
    "col2 = 'RightHeld'\n",
    "\n",
    "# Count the occurrences of each combination\n",
    "combination_counts = df.groupby([col1, col2]).size().reset_index(name='counts')\n",
    "print(combination_counts)\n",
    "\n",
    "# Define the desired proportion for each combination\n",
    "desired_proportion = 1  # 4x the data across all categories\n",
    "\n",
    "# Calculate the number of samples for each combination to achieve the desired proportion\n",
    "total_samples = len(df)\n",
    "desired_counts = int(total_samples * desired_proportion)\n",
    "\n",
    "# Resample each combination to the desired count\n",
    "def resample_combination(df, col1_value, col2_value, n_samples):\n",
    "    subset = df[(df[col1] == col1_value) & (df[col2] == col2_value)]\n",
    "    if len(subset) > n_samples:\n",
    "        return resample(subset, replace=False, n_samples=n_samples, random_state=42)\n",
    "    else:\n",
    "        return resample(subset, replace=True, n_samples=n_samples, random_state=42)\n",
    "\n",
    "# Create a balanced dataset\n",
    "balanced_df = pd.concat([\n",
    "    resample_combination(df, True, False, desired_counts),\n",
    "    resample_combination(df, False, True, desired_counts),\n",
    "    resample_combination(df, False, False, desired_counts)\n",
    "])\n",
    "\n",
    "# Shuffle the balanced dataset\n",
    "balanced_df = balanced_df.sample(frac=1, random_state=42).reset_index(drop=True)\n",
    "\n",
    "# Check the new proportions\n",
    "new_combination_counts = balanced_df.groupby([col1, col2]).size().reset_index(name='counts')\n",
    "print(new_combination_counts)\n",
    "\n",
    "# Save the balanced dataset to a new CSV file\n",
    "balanced_df.to_csv(\"balanced_playerOutput.csv\", index=False)"
   ]
  },
  {
   "cell_type": "code",
   "execution_count": null,
   "metadata": {},
   "outputs": [],
   "source": []
  }
 ],
 "metadata": {
  "kernelspec": {
   "display_name": "pongai",
   "language": "python",
   "name": "python3"
  },
  "language_info": {
   "codemirror_mode": {
    "name": "ipython",
    "version": 3
   },
   "file_extension": ".py",
   "mimetype": "text/x-python",
   "name": "python",
   "nbconvert_exporter": "python",
   "pygments_lexer": "ipython3",
   "version": "3.12.3"
  }
 },
 "nbformat": 4,
 "nbformat_minor": 2
}
